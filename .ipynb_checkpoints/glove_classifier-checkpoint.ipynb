{
 "cells": [
  {
   "cell_type": "code",
   "execution_count": 36,
   "metadata": {},
   "outputs": [],
   "source": [
    "import os\n",
    "import sys\n",
    "import numpy as np\n",
    "from pathlib import Path\n",
    "from tensorflow.python.keras.preprocessing.text import Tokenizer\n",
    "from tensorflow.python.keras.preprocessing.sequence import pad_sequences\n",
    "from tensorflow.python.keras.utils import to_categorical\n",
    "from tensorflow.python.keras.layers import Dense, Input, GlobalMaxPooling1D\n",
    "from tensorflow.python.keras.layers import Conv1D, MaxPooling1D, Embedding\n",
    "from tensorflow.python.keras.models import Model\n",
    "from tensorflow.python.keras.initializers import Constant\n",
    "from datetime import datetime\n"
   ]
  },
  {
   "cell_type": "markdown",
   "metadata": {},
   "source": [
    "<h4>embedding code from keras.blog</h4>"
   ]
  },
  {
   "cell_type": "code",
   "execution_count": 37,
   "metadata": {},
   "outputs": [
    {
     "name": "stdout",
     "output_type": "stream",
     "text": [
      "/Users/gkaufmann/Documents/GitHub/NN_final/NN_final\n"
     ]
    }
   ],
   "source": [
    "cur_dir = Path(os.getcwd())\n",
    "print(cur_dir)\n",
    "BASE_DIR = cur_dir\n",
    "GLOVE_DIR = os.path.join(BASE_DIR, 'glove.6B')\n",
    "TEXT_DATA_DIR = os.path.join(BASE_DIR, 'data')\n",
    "MAX_SEQUENCE_LENGTH = 10000\n",
    "MAX_NUM_WORDS = 20000\n",
    "EMBEDDING_DIM = 100\n",
    "VALIDATION_SPLIT = 0.2\n"
   ]
  },
  {
   "cell_type": "code",
   "execution_count": 39,
   "metadata": {},
   "outputs": [
    {
     "name": "stdout",
     "output_type": "stream",
     "text": [
      "Found 400000 word vectors.\n"
     ]
    }
   ],
   "source": [
    "embeddings_index = {}\n",
    "with open(os.path.join(GLOVE_DIR, 'glove.6B.100d.txt')) as f:\n",
    "    for line in f:\n",
    "        word, coefs = line.split(maxsplit=1)\n",
    "        coefs = np.fromstring(coefs, 'f', sep=' ')\n",
    "        embeddings_index[word] = coefs\n",
    "        \n",
    "print('Found %s word vectors.' % len(embeddings_index))"
   ]
  },
  {
   "cell_type": "code",
   "execution_count": 23,
   "metadata": {},
   "outputs": [
    {
     "name": "stdout",
     "output_type": "stream",
     "text": [
      ".DS_Store\n",
      "Cannabis\n",
      "LSD\n",
      "MDMA\n",
      "Mushrooms\n",
      "Found 14825 texts.\n"
     ]
    }
   ],
   "source": [
    "texts = []  # list of text samples\n",
    "labels_index = {}  # dictionary mapping label name to numeric id\n",
    "labels = []  # list of label ids\n",
    "\n",
    "for name in sorted(os.listdir(TEXT_DATA_DIR)):\n",
    "    print(name)\n",
    "    path = os.path.join(TEXT_DATA_DIR, name)\n",
    "    if os.path.isdir(path):\n",
    "        label_id = len(labels_index)\n",
    "        labels_index[name] = label_id\n",
    "        for fname in sorted(os.listdir(path)):\n",
    "            if fname[:-4].isdigit():\n",
    "                fpath = os.path.join(path, fname)\n",
    "                if sys.version_info < (3,):\n",
    "                    f = open(fpath)\n",
    "                else:\n",
    "                    f = open(fpath, encoding='latin-1')\n",
    "                t = f.read()\n",
    "                i = t.find('\\n\\n')  # skip header\n",
    "                if 0 < i:\n",
    "                    t = t[i:]\n",
    "                texts.append(t)\n",
    "                f.close()\n",
    "                labels.append(label_id)\n",
    "\n",
    "print('Found %s texts.' % len(texts))"
   ]
  },
  {
   "cell_type": "code",
   "execution_count": 24,
   "metadata": {},
   "outputs": [
    {
     "name": "stdout",
     "output_type": "stream",
     "text": [
      "Found 32318 unique tokens.\n",
      "[[    0     0     0 ...     8  6549  2770]\n",
      " [    0     0     0 ... 12731     2 12732]\n",
      " [    0     0     0 ...     4   445    55]\n",
      " ...\n",
      " [    0     0     0 ...   189   150    80]\n",
      " [    0     0     0 ...    47    27   201]\n",
      " [    0     0     0 ...   159    13   156]]\n",
      "Shape of data tensor: (14825, 10000)\n",
      "Shape of label tensor: (14825, 4)\n"
     ]
    }
   ],
   "source": [
    "tokenizer = Tokenizer(num_words=MAX_NUM_WORDS)\n",
    "tokenizer.fit_on_texts(texts)\n",
    "sequences = tokenizer.texts_to_sequences(texts)\n",
    "\n",
    "word_index = tokenizer.word_index\n",
    "print('Found %s unique tokens.' % len(word_index))\n",
    "\n",
    "data = pad_sequences(sequences, maxlen=MAX_SEQUENCE_LENGTH)\n",
    "print(data)\n",
    "\n",
    "labels = to_categorical(np.asarray(labels))\n",
    "print('Shape of data tensor:', data.shape)\n",
    "print('Shape of label tensor:', labels.shape)\n",
    "\n",
    "# split the data into a training set and a validation set\n",
    "indices = np.arange(data.shape[0])\n",
    "np.random.shuffle(indices)\n",
    "data = data[indices]\n",
    "labels = labels[indices]\n",
    "nb_validation_samples = int(VALIDATION_SPLIT * data.shape[0])\n",
    "\n",
    "\n",
    "x_train = data[:(len(data)//10 * 8)]\n",
    "y_train = labels[:(len(data)//10 * 8)]\n",
    "x_val = data[(len(data)//10 * 8):]\n",
    "y_val = labels[(len(data)//10 * 8):]\n",
    "\n",
    "\n"
   ]
  },
  {
   "cell_type": "code",
   "execution_count": 25,
   "metadata": {},
   "outputs": [
    {
     "name": "stdout",
     "output_type": "stream",
     "text": [
      "Preparing embedding matrix.\n"
     ]
    }
   ],
   "source": [
    "print('Preparing embedding matrix.')\n",
    "\n",
    "# prepare embedding matrix\n",
    "num_words = min(MAX_NUM_WORDS, len(word_index) + 1)\n",
    "embedding_matrix = np.zeros((num_words, EMBEDDING_DIM))\n",
    "for word, i in word_index.items():\n",
    "    if i >= MAX_NUM_WORDS:\n",
    "        continue\n",
    "    embedding_vector = embeddings_index.get(word)\n",
    "    if embedding_vector is not None:\n",
    "        # words not found in embedding index will be all-zeros.\n",
    "        embedding_matrix[i] = embedding_vector\n",
    "\n",
    "# load pre-trained word embeddings into an Embedding layer\n",
    "# note that we set trainable = False so as to keep the embeddings fixed\n",
    "embedding_layer = Embedding(num_words,\n",
    "                            EMBEDDING_DIM,\n",
    "                            embeddings_initializer=Constant(embedding_matrix),\n",
    "                            input_length=MAX_SEQUENCE_LENGTH,\n",
    "                            trainable=False)\n"
   ]
  },
  {
   "cell_type": "code",
   "execution_count": 26,
   "metadata": {},
   "outputs": [
    {
     "name": "stdout",
     "output_type": "stream",
     "text": [
      "Training model.\n",
      "Train on 11856 samples, validate on 2969 samples\n",
      "Epoch 1/10\n",
      "11856/11856 [==============================] - 580s 49ms/sample - loss: 1.2798 - acc: 0.4046 - val_loss: 1.1881 - val_acc: 0.4348\n",
      "Epoch 2/10\n",
      "11856/11856 [==============================] - 487s 41ms/sample - loss: 1.0870 - acc: 0.5155 - val_loss: 1.0624 - val_acc: 0.5204\n",
      "Epoch 3/10\n",
      "11856/11856 [==============================] - 473s 40ms/sample - loss: 0.9838 - acc: 0.5682 - val_loss: 1.0888 - val_acc: 0.5251\n",
      "Epoch 4/10\n",
      "11856/11856 [==============================] - 467s 39ms/sample - loss: 0.9202 - acc: 0.5987 - val_loss: 1.0034 - val_acc: 0.5537\n",
      "Epoch 5/10\n",
      "11856/11856 [==============================] - 477s 40ms/sample - loss: 0.8492 - acc: 0.6412 - val_loss: 1.0232 - val_acc: 0.5463\n",
      "Epoch 6/10\n",
      "11856/11856 [==============================] - 493s 42ms/sample - loss: 0.7642 - acc: 0.6800 - val_loss: 1.1894 - val_acc: 0.5338\n",
      "Epoch 7/10\n",
      "11856/11856 [==============================] - 477s 40ms/sample - loss: 0.6755 - acc: 0.7234 - val_loss: 1.1305 - val_acc: 0.5504\n",
      "Epoch 8/10\n",
      "11856/11856 [==============================] - 480s 40ms/sample - loss: 0.5872 - acc: 0.7642 - val_loss: 1.2158 - val_acc: 0.5406\n",
      "Epoch 9/10\n",
      "11856/11856 [==============================] - 477s 40ms/sample - loss: 0.5016 - acc: 0.7997 - val_loss: 1.5597 - val_acc: 0.4786\n",
      "Epoch 10/10\n",
      "11856/11856 [==============================] - 476s 40ms/sample - loss: 0.4500 - acc: 0.8249 - val_loss: 1.4107 - val_acc: 0.5386\n"
     ]
    },
    {
     "data": {
      "text/plain": [
       "<tensorflow.python.keras.callbacks.History at 0x148856090>"
      ]
     },
     "execution_count": 26,
     "metadata": {},
     "output_type": "execute_result"
    }
   ],
   "source": [
    "print('Training model.')\n",
    "\n",
    "# train a 1D convnet with global maxpooling\n",
    "sequence_input = Input(shape=(MAX_SEQUENCE_LENGTH,), dtype='int32')\n",
    "embedded_sequences = embedding_layer(sequence_input)\n",
    "x = Conv1D(128, 5, activation='relu')(embedded_sequences)\n",
    "x = MaxPooling1D(5)(x)\n",
    "x = Conv1D(128, 5, activation='relu')(x)\n",
    "x = MaxPooling1D(5)(x)\n",
    "x = Conv1D(128, 5, activation='relu')(x)\n",
    "x = GlobalMaxPooling1D()(x)\n",
    "x = Dense(128, activation='relu')(x)\n",
    "preds = Dense(len(labels_index), activation='softmax')(x)\n",
    "\n",
    "model = Model(sequence_input, preds)\n",
    "model.compile(loss='categorical_crossentropy',\n",
    "              optimizer='rmsprop',\n",
    "              metrics=['acc'])\n",
    "\n",
    "model.fit(x_train, y_train,\n",
    "          batch_size=128,\n",
    "          epochs=10,\n",
    "          validation_data=(x_val, y_val))"
   ]
  },
  {
   "cell_type": "code",
   "execution_count": 40,
   "metadata": {},
   "outputs": [
    {
     "name": "stdout",
     "output_type": "stream",
     "text": [
      "1185/1185 [==============================] - 17s 14ms/sample - loss: 0.3473 - acc: 0.8633\n"
     ]
    },
    {
     "data": {
      "text/plain": [
       "[0.3473097337071906, 0.86329114]"
      ]
     },
     "execution_count": 40,
     "metadata": {},
     "output_type": "execute_result"
    }
   ],
   "source": [
    "model.evaluate(x_train[:len(x_train)//10], y_train[:len(y_train)//10])"
   ]
  },
  {
   "cell_type": "code",
   "execution_count": 41,
   "metadata": {},
   "outputs": [
    {
     "name": "stdout",
     "output_type": "stream",
     "text": [
      "\r",
      "8/8 [==============================] - 0s 22ms/sample - loss: 7.2597 - acc: 0.2500\n"
     ]
    },
    {
     "data": {
      "text/plain": [
       "[7.259669303894043, 0.25]"
      ]
     },
     "execution_count": 41,
     "metadata": {},
     "output_type": "execute_result"
    }
   ],
   "source": [
    "model.evaluate(x_val, y_val)"
   ]
  },
  {
   "cell_type": "markdown",
   "metadata": {},
   "source": [
    "<h4>repeat above code to process generated text for gloVe </h4>"
   ]
  },
  {
   "cell_type": "code",
   "execution_count": 42,
   "metadata": {},
   "outputs": [
    {
     "name": "stdout",
     "output_type": "stream",
     "text": [
      "/Users/gkaufmann/Documents/GitHub/NN_final/NN_final\n",
      ".DS_Store\n",
      "Cannabis\n",
      "LSD\n",
      "MDMA\n",
      "Mushrooms\n",
      "Found 8 texts.\n",
      "Found 460 unique tokens.\n",
      "[[  0   0   0 ...  34  35  73]\n",
      " [  0   0   0 ...  21  11 241]\n",
      " [  0   0   0 ...  34  35  73]\n",
      " ...\n",
      " [  0   0   0 ... 416  26 417]\n",
      " [  0   0   0 ...  34  35  73]\n",
      " [  0   0   0 ... 459   3 460]]\n",
      "Shape of data tensor: (8, 10000)\n",
      "Shape of label tensor: (8, 4)\n"
     ]
    }
   ],
   "source": [
    "cur_dir = Path(os.getcwd())\n",
    "print(cur_dir)\n",
    "BASE_DIR = cur_dir\n",
    "GLOVE_DIR = os.path.join(BASE_DIR, 'glove.6B')\n",
    "TEXT_DATA_DIR = os.path.join(BASE_DIR, 'generated_texts')\n",
    "MAX_SEQUENCE_LENGTH = 10000\n",
    "MAX_NUM_WORDS = 20000\n",
    "EMBEDDING_DIM = 100\n",
    "VALIDATION_SPLIT = 0.2\n",
    "\n",
    "\n",
    "texts = []  # list of text samples\n",
    "labels_index = {}  # dictionary mapping label name to numeric id\n",
    "labels = []  # list of label ids\n",
    "\n",
    "for name in sorted(os.listdir(TEXT_DATA_DIR)):\n",
    "    print(name)\n",
    "    path = os.path.join(TEXT_DATA_DIR, name)\n",
    "    if os.path.isdir(path):\n",
    "        label_id = len(labels_index)\n",
    "        labels_index[name] = label_id\n",
    "        for fname in sorted(os.listdir(path)):\n",
    "            fpath = os.path.join(path, fname)\n",
    "            if sys.version_info < (3,):\n",
    "                f = open(fpath)\n",
    "            else:\n",
    "                f = open(fpath, encoding='latin-1')\n",
    "            t = f.read()\n",
    "            i = t.find('\\n\\n')  # skip header\n",
    "            if 0 < i:\n",
    "                t = t[i:]\n",
    "            texts.append(t)\n",
    "            f.close()\n",
    "            labels.append(label_id)\n",
    "\n",
    "print('Found %s texts.' % len(texts))\n",
    "\n",
    "tokenizer = Tokenizer(num_words=MAX_NUM_WORDS)\n",
    "tokenizer.fit_on_texts(texts)\n",
    "sequences = tokenizer.texts_to_sequences(texts)\n",
    "\n",
    "word_index = tokenizer.word_index\n",
    "print('Found %s unique tokens.' % len(word_index))\n",
    "\n",
    "data = pad_sequences(sequences, maxlen=MAX_SEQUENCE_LENGTH)\n",
    "print(data)\n",
    "\n",
    "labels = to_categorical(np.asarray(labels))\n",
    "print('Shape of data tensor:', data.shape)\n",
    "print('Shape of label tensor:', labels.shape)\n",
    "\n",
    "# split the data into a training set and a validation set\n",
    "indices = np.arange(data.shape[0])\n",
    "np.random.shuffle(indices)\n",
    "data = data[indices]\n",
    "labels = labels[indices]\n",
    "nb_validation_samples = int(VALIDATION_SPLIT * data.shape[0])\n",
    "\n",
    "\n",
    "#x_train = data[:(len(data)//10 * 8)]\n",
    "#y_train = labels[:(len(data)//10 * 8)]\n",
    "x_val = data[(len(data)//10 * 8):]\n",
    "y_val = labels[(len(data)//10 * 8):]\n",
    "\n",
    "\n",
    "\n"
   ]
  },
  {
   "cell_type": "code",
   "execution_count": 43,
   "metadata": {},
   "outputs": [
    {
     "name": "stdout",
     "output_type": "stream",
     "text": [
      "\r",
      "8/8 [==============================] - 0s 16ms/sample - loss: 7.2597 - acc: 0.2500\n"
     ]
    },
    {
     "data": {
      "text/plain": [
       "[7.259669780731201, 0.25]"
      ]
     },
     "execution_count": 43,
     "metadata": {},
     "output_type": "execute_result"
    }
   ],
   "source": [
    "model.evaluate(x_val, y_val)"
   ]
  },
  {
   "cell_type": "code",
   "execution_count": 46,
   "metadata": {},
   "outputs": [
    {
     "name": "stdout",
     "output_type": "stream",
     "text": [
      "[[1.1914601e-13 4.1297892e-11 4.3056500e-12 1.0000000e+00]\n",
      " [7.7300221e-02 2.8138861e-01 8.4915563e-02 5.5639565e-01]\n",
      " [2.1392193e-02 2.9931957e-01 6.2691921e-01 5.2368972e-02]\n",
      " [9.6012298e-10 3.2780546e-04 6.5685029e-08 9.9967217e-01]\n",
      " [5.4704163e-08 9.9587407e-07 5.1782195e-08 9.9999893e-01]\n",
      " [1.2124924e-05 8.0797505e-01 1.4965260e-05 1.9199789e-01]\n",
      " [1.8931856e-02 1.8783562e-01 2.4135508e-02 7.6909709e-01]\n",
      " [6.4925151e-03 2.7345082e-01 1.4833494e-02 7.0522320e-01]]\n",
      "[[1. 0. 0. 0.]\n",
      " [0. 1. 0. 0.]\n",
      " [1. 0. 0. 0.]\n",
      " [0. 1. 0. 0.]\n",
      " [0. 0. 0. 1.]\n",
      " [0. 0. 1. 0.]\n",
      " [0. 0. 1. 0.]\n",
      " [0. 0. 0. 1.]]\n"
     ]
    }
   ],
   "source": [
    "print(model.predict(x_val))\n",
    "print(y_val)"
   ]
  },
  {
   "cell_type": "code",
   "execution_count": 9,
   "metadata": {},
   "outputs": [],
   "source": [
    "def save_trained_model(trained_model, drug_name):\n",
    "    now = datetime.now()\n",
    "    model_json = trained_model.to_json()\n",
    "    filename = drug_name + \"_\" + now.strftime(\"%m-%d_%H-%M-%S\")\n",
    "    with open(\"saved_models/\" + filename + \".json\", \"w+\") as json_file:\n",
    "        json_file.write(model_json)\n",
    "    # serialize weights\n",
    "    trained_model.save_weights(\"saved_models/\" + filename + \".h5\")\n",
    "    print(drug_name + \"_\" + now.strftime(\"%m-%d_%H-%M-%S\") + \" model saved!\")"
   ]
  },
  {
   "cell_type": "code",
   "execution_count": 27,
   "metadata": {},
   "outputs": [
    {
     "name": "stdout",
     "output_type": "stream",
     "text": [
      "classifier_12-03_15-28-46 model saved!\n"
     ]
    }
   ],
   "source": [
    "save_trained_model(model, 'classifier')"
   ]
  },
  {
   "cell_type": "code",
   "execution_count": null,
   "metadata": {},
   "outputs": [],
   "source": []
  }
 ],
 "metadata": {
  "kernelspec": {
   "display_name": "Python 3",
   "language": "python",
   "name": "python3"
  },
  "language_info": {
   "codemirror_mode": {
    "name": "ipython",
    "version": 3
   },
   "file_extension": ".py",
   "mimetype": "text/x-python",
   "name": "python",
   "nbconvert_exporter": "python",
   "pygments_lexer": "ipython3",
   "version": "3.7.4"
  }
 },
 "nbformat": 4,
 "nbformat_minor": 2
}
