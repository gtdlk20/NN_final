{
 "cells": [
  {
   "cell_type": "code",
   "execution_count": 31,
   "metadata": {},
   "outputs": [],
   "source": [
    "import pandas as pd\n",
    "import sys\n",
    "import io"
   ]
  },
  {
   "cell_type": "code",
   "execution_count": 32,
   "metadata": {},
   "outputs": [],
   "source": [
    "#imput is file name of drug text accounts, returns BERT readable .tsv\n",
    "def txt_to_tsv(fileName):\n",
    "        #writes 3 tsv files per input: train, dev, and test\n",
    "\n",
    "    #dictionaries for labeling data in dataframe\n",
    "    drug_to_int = {\"Mushrooms\": 0, \"Cannabis\": 1, \"LSD\": 2, \"MDMA\": 3}\n",
    "    int_to_drug = {0: \"Mushrooms\", 1: \"Cannabis\", 2: \"LSD\", 3: \"MDMA\"}\n",
    "    \n",
    "    with open('data/%s.txt' % fileName, 'r') as f:\n",
    "        #clean file of non-sentences and '\\n'\n",
    "        lines = [line.rstrip('\\n') for line in f]\n",
    "        lines = [line for line in lines if len(line) > 45]\n",
    "        \n",
    "        #set indices for dividing into train, dev, test\n",
    "        trainIndex = len(lines) * 8 // 10\n",
    "        devIndex = (len(lines) // 10) + trainIndex\n",
    "        \n",
    "        #generate separate lists of lines\n",
    "        train = lines[:trainIndex]\n",
    "        dev = lines[trainIndex:devIndex]\n",
    "        test = lines[devIndex:]\n",
    "        \n",
    "        #preprocess training data for pandas df\n",
    "        trainRange = range(1, len(train))\n",
    "        trainData = []\n",
    "        for num, line in zip(trainRange, train):\n",
    "            trainData.append([num, drug_to_int[fileName], 'a', line])\n",
    "            \n",
    "        #preprocess dev data for pandas df\n",
    "        devRange = range(1, len(dev))\n",
    "        devData = []\n",
    "        for num, line in zip(devRange, dev):\n",
    "            devData.append([num, drug_to_int[fileName], 'a', line])\n",
    "            \n",
    "        #preprocess test data for pandas df\n",
    "        testRange = range(1, len(test))\n",
    "        testData = []\n",
    "        for num, line in zip(testRange, test):\n",
    "            testData.append([num, line])\n",
    "            \n",
    "        #create dataframes\n",
    "        dfTrain = pd.DataFrame(trainData, columns=['id', 'label', 'filler', 'sentence'])\n",
    "        dfDev = pd.DataFrame(devData, columns=['id', 'label', 'filler', 'sentence'])\n",
    "        dfTest = pd.DataFrame(testData, columns=['id', 'sentence'])\n",
    "        \n",
    "        #create tsv files\n",
    "        train_tsv = dfTrain.to_csv(sep='\\t', index=True, header=False)\n",
    "        dev_tsv = dfDev.to_csv(sep='\\t', index=True, header=False)\n",
    "        test_tsv = dfTest.to_csv(sep='\\t', index=False, header=True)\n",
    "        \n",
    "        #write tsv's\n",
    "        with open('./data/train.tsv', 'w+') as f:\n",
    "            f.write(train_tsv)\n",
    "        \n",
    "        with open('./data/dev.tsv', 'w+') as f:\n",
    "            f.write(dev_tsv)\n",
    "            \n",
    "        with open('./data/test.tsv', 'w+') as f:\n",
    "            f.write(test_tsv)\n",
    "        \n",
    "                \n",
    "    "
   ]
  },
  {
   "cell_type": "code",
   "execution_count": 33,
   "metadata": {},
   "outputs": [],
   "source": [
    "txt_to_tsv('Mushrooms')"
   ]
  },
  {
   "cell_type": "code",
   "execution_count": 34,
   "metadata": {},
   "outputs": [],
   "source": [
    "txt_to_tsv('LSD')"
   ]
  },
  {
   "cell_type": "code",
   "execution_count": 35,
   "metadata": {},
   "outputs": [],
   "source": [
    "txt_to_tsv('Cannabis')"
   ]
  },
  {
   "cell_type": "code",
   "execution_count": 36,
   "metadata": {},
   "outputs": [],
   "source": [
    "txt_to_tsv('MDMA')"
   ]
  },
  {
   "cell_type": "code",
   "execution_count": null,
   "metadata": {},
   "outputs": [],
   "source": []
  }
 ],
 "metadata": {
  "kernelspec": {
   "display_name": "Python 3",
   "language": "python",
   "name": "python3"
  },
  "language_info": {
   "codemirror_mode": {
    "name": "ipython",
    "version": 3
   },
   "file_extension": ".py",
   "mimetype": "text/x-python",
   "name": "python",
   "nbconvert_exporter": "python",
   "pygments_lexer": "ipython3",
   "version": "3.7.4"
  }
 },
 "nbformat": 4,
 "nbformat_minor": 2
}
