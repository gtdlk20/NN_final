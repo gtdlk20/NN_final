{
 "cells": [
  {
   "cell_type": "code",
   "execution_count": 1,
   "metadata": {},
   "outputs": [],
   "source": [
    "import requests as re\n",
    "from bs4 import BeautifulSoup as bs"
   ]
  },
  {
   "cell_type": "markdown",
   "metadata": {},
   "source": [
    "Get the request data and bs objects"
   ]
  },
  {
   "cell_type": "code",
   "execution_count": 2,
   "metadata": {},
   "outputs": [],
   "source": [
    "mushrooms = re.get(\"https://www.erowid.org/experiences/exp.cgi?S=39&C=1&ShowViews=0&Cellar=0&Start=0&Max=1000\")"
   ]
  },
  {
   "cell_type": "code",
   "execution_count": 3,
   "metadata": {},
   "outputs": [],
   "source": [
    "cannabis = re.get(\"https://www.erowid.org/experiences/exp.cgi?S=1&C=1&ShowViews=0&Cellar=0&Start=0&Max=1000\")"
   ]
  },
  {
   "cell_type": "code",
   "execution_count": 4,
   "metadata": {},
   "outputs": [],
   "source": [
    "lsd = re.get(\"https://www.erowid.org/experiences/exp.cgi?S=2&C=1&ShowViews=0&Cellar=0&Start=0&Max=1000\")"
   ]
  },
  {
   "cell_type": "code",
   "execution_count": 5,
   "metadata": {},
   "outputs": [],
   "source": [
    "mdma = re.get(\"https://www.erowid.org/experiences/exp.cgi?S=3&C=1&ShowViews=0&Cellar=0&Start=0&Max=1000\")"
   ]
  },
  {
   "cell_type": "code",
   "execution_count": 6,
   "metadata": {},
   "outputs": [],
   "source": [
    "mushroomSoup = bs(mushrooms.text, 'html.parser')"
   ]
  },
  {
   "cell_type": "code",
   "execution_count": 7,
   "metadata": {},
   "outputs": [],
   "source": [
    "cannabisSoup = bs(cannabis.text, 'html.parser')"
   ]
  },
  {
   "cell_type": "code",
   "execution_count": 8,
   "metadata": {},
   "outputs": [],
   "source": [
    "lsdSoup = bs(lsd.text, 'html.parser')"
   ]
  },
  {
   "cell_type": "code",
   "execution_count": 9,
   "metadata": {},
   "outputs": [],
   "source": [
    "mdmaSoup = bs(mdma.text, 'html.parser')"
   ]
  },
  {
   "cell_type": "markdown",
   "metadata": {},
   "source": [
    "get_text_dict() adds a list of accounts for a specific drug to the drug dict"
   ]
  },
  {
   "cell_type": "code",
   "execution_count": 10,
   "metadata": {},
   "outputs": [],
   "source": [
    "def get_drug_file(name, soup):\n",
    "    \"\"\"\n",
    "    param name: the string name of how you want to reference the accounts in dict lookup\n",
    "    parap soup: the BeautifulSoup object containing links to pages with text to scrape\n",
    "    \n",
    "    makes a file for the drug given at the specified link, named whatever name is\n",
    "    \"\"\"\n",
    "    count = 1\n",
    "    drugName = name\n",
    "    \n",
    "    #tags: the list of link endings unique to each account\n",
    "    tags = []\n",
    "    \n",
    "    #list of accounts\n",
    "    accounts = []\n",
    "    \n",
    "    \n",
    "    #make new file\n",
    "    drug_file = open('%s.txt' % drugName, 'w+')\n",
    "    \n",
    "    \n",
    "    #obtain links to each page in table\n",
    "    for link in soup.find_all('a'):\n",
    "        tags.append(link.get('href'))\n",
    "    #trim extraneous tags\n",
    "    tags = tags[2:]\n",
    "    \n",
    "    #make bs objects and get cleaner text, check for mixing, write to file if clean account (just specified drug)\n",
    "    for tag in tags:\n",
    "        data = re.get(\"https://www.erowid.org/experiences/%s\" % tag)\n",
    "        s = bs(data.text, 'html.parser')\n",
    "        trimmed = s.find_all(True, class_=\"report-text-surround\")\n",
    "        \n",
    "        substances = s.find_all('div', class_='substance')\n",
    "        if not substances == []:\n",
    "            substances = substances[0].text\n",
    "            if not '&' in substances:\n",
    "                drug_file.write(trimmed[0].text)\n",
    "                count += 1\n",
    "            \n",
    "        if count % 100 == 0:\n",
    "            print(\"scraped \" + str(count) + \" pages from \" + str(drugName))\n",
    "        \n",
    "    \n",
    "    drug_file.close()\n",
    "    print(str(count) + ' entries found')\n",
    "    "
   ]
  },
  {
   "cell_type": "code",
   "execution_count": 11,
   "metadata": {},
   "outputs": [
    {
     "name": "stdout",
     "output_type": "stream",
     "text": [
      "scraped 100 pages from Mushrooms\n",
      "scraped 200 pages from Mushrooms\n",
      "scraped 300 pages from Mushrooms\n",
      "scraped 400 pages from Mushrooms\n",
      "scraped 500 pages from Mushrooms\n",
      "scraped 600 pages from Mushrooms\n",
      "scraped 700 pages from Mushrooms\n",
      "724 entries found\n"
     ]
    }
   ],
   "source": [
    "get_drug_file('Mushrooms', mushroomSoup)\n"
   ]
  },
  {
   "cell_type": "code",
   "execution_count": 13,
   "metadata": {},
   "outputs": [
    {
     "name": "stdout",
     "output_type": "stream",
     "text": [
      "scraped 100 pages from LSD\n",
      "scraped 200 pages from LSD\n",
      "scraped 300 pages from LSD\n",
      "scraped 400 pages from LSD\n",
      "scraped 400 pages from LSD\n",
      "scraped 400 pages from LSD\n",
      "497 entries found\n"
     ]
    }
   ],
   "source": [
    "get_drug_file('LSD', lsdSoup)\n"
   ]
  },
  {
   "cell_type": "code",
   "execution_count": 14,
   "metadata": {},
   "outputs": [
    {
     "name": "stdout",
     "output_type": "stream",
     "text": [
      "scraped 100 pages from Cannabis\n",
      "scraped 200 pages from Cannabis\n",
      "scraped 200 pages from Cannabis\n",
      "scraped 300 pages from Cannabis\n",
      "scraped 400 pages from Cannabis\n",
      "scraped 400 pages from Cannabis\n",
      "404 entries found\n"
     ]
    }
   ],
   "source": [
    "get_drug_file('Cannabis', cannabisSoup)"
   ]
  },
  {
   "cell_type": "code",
   "execution_count": 15,
   "metadata": {},
   "outputs": [
    {
     "name": "stdout",
     "output_type": "stream",
     "text": [
      "scraped 100 pages from MDMA\n",
      "scraped 200 pages from MDMA\n",
      "scraped 300 pages from MDMA\n",
      "345 entries found\n"
     ]
    }
   ],
   "source": [
    "get_drug_file('MDMA', mdmaSoup)"
   ]
  },
  {
   "cell_type": "code",
   "execution_count": null,
   "metadata": {},
   "outputs": [],
   "source": []
  }
 ],
 "metadata": {
  "kernelspec": {
   "display_name": "Python 3",
   "language": "python",
   "name": "python3"
  },
  "language_info": {
   "codemirror_mode": {
    "name": "ipython",
    "version": 3
   },
   "file_extension": ".py",
   "mimetype": "text/x-python",
   "name": "python",
   "nbconvert_exporter": "python",
   "pygments_lexer": "ipython3",
   "version": "3.7.3"
  }
 },
 "nbformat": 4,
 "nbformat_minor": 2
}
