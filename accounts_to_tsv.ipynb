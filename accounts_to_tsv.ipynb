{
 "cells": [
  {
   "cell_type": "code",
   "execution_count": 6,
   "metadata": {},
   "outputs": [],
   "source": [
    "import pandas as pd\n",
    "import sys, io, os\n",
    "from pathlib import Path\n"
   ]
  },
  {
   "cell_type": "code",
   "execution_count": 34,
   "metadata": {},
   "outputs": [],
   "source": [
    "#imput is file name of drug text accounts, returns BERT readable .tsv\n",
    "def txt_to_tsv(fileName):\n",
    "        #writes 3 tsv files per input: train, dev, and test\n",
    "\n",
    "    #dictionaries for labeling data in dataframe\n",
    "    drug_to_int = {\"Mushrooms\": 0, \"Cannabis\": 1, \"LSD\": 2, \"MDMA\": 3}\n",
    "    int_to_drug = {0: \"Mushrooms\", 1: \"Cannabis\", 2: \"LSD\", 3: \"MDMA\"}\n",
    "    \n",
    "    with open('data/%s.txt' % fileName, 'r') as f:\n",
    "        #clean file of non-sentences and '\\n'\n",
    "        lines = [line.rstrip('\\n') for line in f]\n",
    "        lines = [line for line in lines if len(line) > 45]\n",
    "        \n",
    "        #set indices for dividing into train, dev, test\n",
    "        trainIndex = len(lines) * 8 // 10\n",
    "        devIndex = (len(lines) // 10) + trainIndex\n",
    "        \n",
    "        #generate separate lists of lines\n",
    "        train = lines[:trainIndex]\n",
    "        dev = lines[trainIndex:devIndex]\n",
    "        test = lines[devIndex:]\n",
    "        \n",
    "        #preprocess training data for pandas df\n",
    "        trainRange = range(1, len(train))\n",
    "        trainData = []\n",
    "        for num, line in zip(trainRange, train):\n",
    "            trainData.append([num, drug_to_int[fileName], 'a', line])\n",
    "            \n",
    "        #preprocess dev data for pandas df\n",
    "        devRange = range(1, len(dev))\n",
    "        devData = []\n",
    "        for num, line in zip(devRange, dev):\n",
    "            devData.append([num, drug_to_int[fileName], 'a', line])\n",
    "            \n",
    "        #preprocess test data for pandas df\n",
    "        testRange = range(1, len(test))\n",
    "        testData = []\n",
    "        for num, line in zip(testRange, test):\n",
    "            testData.append([num, line])\n",
    "            \n",
    "        #create dataframes\n",
    "        dfTrain = pd.DataFrame(trainData, columns=['id', 'label', 'filler', 'sentence'])\n",
    "        dfDev = pd.DataFrame(devData, columns=['id', 'label', 'filler', 'sentence'])\n",
    "        dfTest = pd.DataFrame(testData, columns=['id', 'sentence'])\n",
    "        \n",
    "        #create tsv files\n",
    "        train_tsv = dfTrain.to_csv(sep='\\t', index=False, header=False)\n",
    "        dev_tsv = dfDev.to_csv(sep='\\t', index=False, header=False)\n",
    "        test_tsv = dfTest.to_csv(sep='\\t', index=False, header=True)\n",
    "        \n",
    "        #write tsv's\n",
    "        with open('./data/train.tsv', 'a+') as f:\n",
    "            f.write(train_tsv)\n",
    "        \n",
    "        with open('./data/dev.tsv', 'a+') as f:\n",
    "            f.write(dev_tsv)\n",
    "            \n",
    "        with open('./data/test.tsv', 'a+') as f:\n",
    "            f.write(test_tsv)\n",
    "        \n",
    "                \n",
    "    "
   ]
  },
  {
   "cell_type": "code",
   "execution_count": 35,
   "metadata": {},
   "outputs": [],
   "source": [
    "txt_to_tsv('Mushrooms')"
   ]
  },
  {
   "cell_type": "code",
   "execution_count": 36,
   "metadata": {},
   "outputs": [],
   "source": [
    "txt_to_tsv('LSD')"
   ]
  },
  {
   "cell_type": "code",
   "execution_count": 37,
   "metadata": {},
   "outputs": [],
   "source": [
    "txt_to_tsv('Cannabis')"
   ]
  },
  {
   "cell_type": "code",
   "execution_count": 38,
   "metadata": {},
   "outputs": [],
   "source": [
    "txt_to_tsv('MDMA')"
   ]
  },
  {
   "cell_type": "code",
   "execution_count": 19,
   "metadata": {},
   "outputs": [
    {
     "name": "stdout",
     "output_type": "stream",
     "text": [
      "created '2681.5' files in '/Users/gkaufmann/Documents/GitHub/NN_final/NN_final/data/Cannabis' location for 'Cannabis' drug\n",
      "created '5885.5' files in '/Users/gkaufmann/Documents/GitHub/NN_final/NN_final/data/Mushrooms' location for 'Mushrooms' drug\n",
      "created '2188.0' files in '/Users/gkaufmann/Documents/GitHub/NN_final/NN_final/data/MDMA' location for 'MDMA' drug\n",
      "created '4189.0' files in '/Users/gkaufmann/Documents/GitHub/NN_final/NN_final/data/LSD' location for 'LSD' drug\n"
     ]
    }
   ],
   "source": [
    "def break_txts_into_lines():\n",
    "    index = 0\n",
    "    curr_dir = os.getcwd()\n",
    "    curr_path = Path(curr_dir)\n",
    "    data_path = curr_path / \"data\"\n",
    "    # exclude .DS_Store aka first element\n",
    "    dirs = os.listdir(data_path)[1:]\n",
    "    for dirr in dirs:\n",
    "        subdir_path = data_path / dirr\n",
    "        # update index to keep track of created files names (so no 2 files created have the same name aka index)\n",
    "        index = breaker(subdir_path, dirr, index)\n",
    "        \n",
    "    \n",
    "break_txts_into_lines()"
   ]
  },
  {
   "cell_type": "code",
   "execution_count": 18,
   "metadata": {},
   "outputs": [],
   "source": [
    "def breaker(file_path, drug_name, start_ind):\n",
    "    index = start_ind + 1\n",
    "    with open(str(file_path / (drug_name + \".txt\")), \"r\", encoding='utf-8') as file:\n",
    "        #keep track of whether we add line to file or acc\n",
    "        count = 1\n",
    "        acc = ''\n",
    "        for i, line in enumerate(file):\n",
    "            #only add if greater than 35 chars in length\n",
    "            if len(line) > 35: \n",
    "                acc += line\n",
    "                #if count is even we write the two lines to the file\n",
    "                if not count %2 == 0:\n",
    "                    with open(str(file_path / (str(start_ind + i//2))) + \".txt\", \"w+\", encoding='utf-8') as newf:\n",
    "                        newf.write(line)\n",
    "                    acc = ''\n",
    "                else:\n",
    "                    #otherwise we accumulate the two lines in acc\n",
    "                    acc += line\n",
    "                index += .5\n",
    "            count += 1\n",
    "    print(\"created '%s' files in '%s' location for '%s' drug\" % ((index-start_ind), file_path, drug_name))\n",
    "    return int(index)\n"
   ]
  },
  {
   "cell_type": "code",
   "execution_count": null,
   "metadata": {},
   "outputs": [],
   "source": []
  },
  {
   "cell_type": "code",
   "execution_count": null,
   "metadata": {},
   "outputs": [],
   "source": []
  }
 ],
 "metadata": {
  "kernelspec": {
   "display_name": "Python 3",
   "language": "python",
   "name": "python3"
  },
  "language_info": {
   "codemirror_mode": {
    "name": "ipython",
    "version": 3
   },
   "file_extension": ".py",
   "mimetype": "text/x-python",
   "name": "python",
   "nbconvert_exporter": "python",
   "pygments_lexer": "ipython3",
   "version": "3.7.4"
  }
 },
 "nbformat": 4,
 "nbformat_minor": 2
}
